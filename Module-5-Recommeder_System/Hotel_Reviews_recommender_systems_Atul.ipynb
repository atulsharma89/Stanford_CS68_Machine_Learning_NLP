{
  "nbformat": 4,
  "nbformat_minor": 0,
  "metadata": {
    "colab": {
      "name": "Hotel Reviews-recommender_systems-Atul.ipynb",
      "provenance": []
    },
    "kernelspec": {
      "name": "python3",
      "display_name": "Python 3"
    }
  },
  "cells": [
    {
      "cell_type": "code",
      "metadata": {
        "id": "Xquz4-R9ecEl",
        "colab_type": "code",
        "colab": {
          "base_uri": "https://localhost:8080/",
          "height": 496
        },
        "outputId": "6e06dcfe-de95-4ea7-de9f-2b3447a02b87"
      },
      "source": [
        "import pandas as pd\n",
        "\n",
        "metadata = pd.read_csv('/content/booking_com_travel_sample.csv')\n",
        "metadata.head()"
      ],
      "execution_count": 2,
      "outputs": [
        {
          "output_type": "execute_result",
          "data": {
            "text/html": [
              "<div>\n",
              "<style scoped>\n",
              "    .dataframe tbody tr th:only-of-type {\n",
              "        vertical-align: middle;\n",
              "    }\n",
              "\n",
              "    .dataframe tbody tr th {\n",
              "        vertical-align: top;\n",
              "    }\n",
              "\n",
              "    .dataframe thead th {\n",
              "        text-align: right;\n",
              "    }\n",
              "</style>\n",
              "<table border=\"1\" class=\"dataframe\">\n",
              "  <thead>\n",
              "    <tr style=\"text-align: right;\">\n",
              "      <th></th>\n",
              "      <th>address</th>\n",
              "      <th>city</th>\n",
              "      <th>country</th>\n",
              "      <th>crawl_date</th>\n",
              "      <th>hotel_brand</th>\n",
              "      <th>hotel_description</th>\n",
              "      <th>hotel_facilities</th>\n",
              "      <th>hotel_star_rating</th>\n",
              "      <th>image_count</th>\n",
              "      <th>latitude</th>\n",
              "      <th>locality</th>\n",
              "      <th>longitude</th>\n",
              "      <th>pageurl</th>\n",
              "      <th>property_id</th>\n",
              "      <th>property_name</th>\n",
              "      <th>property_type</th>\n",
              "      <th>province</th>\n",
              "      <th>qts</th>\n",
              "      <th>room_count</th>\n",
              "      <th>room_type</th>\n",
              "      <th>similar_hotel</th>\n",
              "      <th>site_review_count</th>\n",
              "      <th>site_review_rating</th>\n",
              "      <th>site_stay_review_rating</th>\n",
              "      <th>sitename</th>\n",
              "      <th>special_tag</th>\n",
              "      <th>state</th>\n",
              "      <th>uniq_id</th>\n",
              "      <th>zone</th>\n",
              "    </tr>\n",
              "  </thead>\n",
              "  <tbody>\n",
              "    <tr>\n",
              "      <th>0</th>\n",
              "      <td>KHIRSU, 246147 Pauri, India – Great location -</td>\n",
              "      <td>pauri</td>\n",
              "      <td>India</td>\n",
              "      <td>2016-09-01</td>\n",
              "      <td>NaN</td>\n",
              "      <td>Khirsu By GMVN offers accommodation in Pauri. ...</td>\n",
              "      <td>Bathroom:Toilet paper|Linen|Towels|Bathroom|To...</td>\n",
              "      <td>NaN</td>\n",
              "      <td>3.0</td>\n",
              "      <td>30.123749</td>\n",
              "      <td>NaN</td>\n",
              "      <td>78.793774</td>\n",
              "      <td>http://www.booking.com/hotel/in/khirsu-by-gmvn...</td>\n",
              "      <td>1742658.0</td>\n",
              "      <td>Khirsu By GMVN</td>\n",
              "      <td>204</td>\n",
              "      <td>NaN</td>\n",
              "      <td>2016-09-01 11:52:38 +0000</td>\n",
              "      <td>18.0</td>\n",
              "      <td>Economy Double Room</td>\n",
              "      <td>Hotel Mandakini</td>\n",
              "      <td>NaN</td>\n",
              "      <td>NaN</td>\n",
              "      <td>NaN</td>\n",
              "      <td>http://www.booking.com/</td>\n",
              "      <td>Share</td>\n",
              "      <td>Uttarakhand</td>\n",
              "      <td>a5ea72415f8007fcbe65759830fdd3d9</td>\n",
              "      <td>NaN</td>\n",
              "    </tr>\n",
              "    <tr>\n",
              "      <th>1</th>\n",
              "      <td>Kaathadimattam, Balacola Post, NEAR Siva Tea F...</td>\n",
              "      <td>ooty</td>\n",
              "      <td>India</td>\n",
              "      <td>2016-09-01</td>\n",
              "      <td>NaN</td>\n",
              "      <td>Situated in Ooty in the Tamil Nadu Region, 8 k...</td>\n",
              "      <td>Bathroom:Toilet paper|Linen|Towels|Bidet|Towel...</td>\n",
              "      <td>3 stars</td>\n",
              "      <td>NaN</td>\n",
              "      <td>11.329595</td>\n",
              "      <td>NaN</td>\n",
              "      <td>76.686732</td>\n",
              "      <td>http://www.booking.com/hotel/in/global-village...</td>\n",
              "      <td>1755986.0</td>\n",
              "      <td>Global Village Ooty</td>\n",
              "      <td>212</td>\n",
              "      <td>NaN</td>\n",
              "      <td>2016-09-01 11:52:38 +0000</td>\n",
              "      <td>10.0</td>\n",
              "      <td>British Empire Chalet</td>\n",
              "      <td>Treebo Yantra Leisures|Western Valley Resorts|...</td>\n",
              "      <td>5</td>\n",
              "      <td>7.6</td>\n",
              "      <td>Location:8.5|Staff:8|Cleanliness:7.5|Comfort:7...</td>\n",
              "      <td>http://www.booking.com/</td>\n",
              "      <td>Share</td>\n",
              "      <td>Tamil Nadu</td>\n",
              "      <td>7e0b055417271bbd9dae902f3e231ed4</td>\n",
              "      <td>NaN</td>\n",
              "    </tr>\n",
              "    <tr>\n",
              "      <th>2</th>\n",
              "      <td>PIPALKOTI, 246472 Pīpalkoti, India – Show map</td>\n",
              "      <td>pīpalkoti</td>\n",
              "      <td>India</td>\n",
              "      <td>2016-09-01</td>\n",
              "      <td>NaN</td>\n",
              "      <td>TRH Pipalkoti offers accommodation in Pīpalkot...</td>\n",
              "      <td>Bathroom:Toilet paper|Linen|Towels|Bathroom•Vi...</td>\n",
              "      <td>NaN</td>\n",
              "      <td>4.0</td>\n",
              "      <td>30.429540</td>\n",
              "      <td>NaN</td>\n",
              "      <td>79.428116</td>\n",
              "      <td>http://www.booking.com/hotel/in/trh-pipalkoti....</td>\n",
              "      <td>1741747.0</td>\n",
              "      <td>TRH Pipalkoti</td>\n",
              "      <td>204</td>\n",
              "      <td>NaN</td>\n",
              "      <td>2016-09-01 11:52:38 +0000</td>\n",
              "      <td>28.0</td>\n",
              "      <td>Economy Double Room</td>\n",
              "      <td>TRH Joshimath (New)</td>\n",
              "      <td>NaN</td>\n",
              "      <td>NaN</td>\n",
              "      <td>NaN</td>\n",
              "      <td>http://www.booking.com/</td>\n",
              "      <td>Share</td>\n",
              "      <td>Uttarakhand</td>\n",
              "      <td>72c0af09827bbb620365aa5df523ba1d</td>\n",
              "      <td>NaN</td>\n",
              "    </tr>\n",
              "    <tr>\n",
              "      <th>3</th>\n",
              "      <td>1 KARIYIL HOUSE KUMARAKOM NORTH PO KOTTAYAM, 6...</td>\n",
              "      <td>kumarakom</td>\n",
              "      <td>India</td>\n",
              "      <td>2016-09-01</td>\n",
              "      <td>NaN</td>\n",
              "      <td>Swasti house boat 2 is located in Kumarakom, 3...</td>\n",
              "      <td>Bathroom:Toilet paper|Towels|Bath|Shower•Bedro...</td>\n",
              "      <td>NaN</td>\n",
              "      <td>2.0</td>\n",
              "      <td>9.616057</td>\n",
              "      <td>NaN</td>\n",
              "      <td>76.428269</td>\n",
              "      <td>http://www.booking.com/hotel/in/swasti-house-b...</td>\n",
              "      <td>1747392.0</td>\n",
              "      <td>Swasti house boat 2</td>\n",
              "      <td>204</td>\n",
              "      <td>NaN</td>\n",
              "      <td>2016-09-01 11:52:38 +0000</td>\n",
              "      <td>1.0</td>\n",
              "      <td>Deluxe Room</td>\n",
              "      <td>NaN</td>\n",
              "      <td>NaN</td>\n",
              "      <td>NaN</td>\n",
              "      <td>NaN</td>\n",
              "      <td>http://www.booking.com/</td>\n",
              "      <td>Share</td>\n",
              "      <td>Kerala</td>\n",
              "      <td>eb6fd33d99aa4a8088caa8f3ecb08275</td>\n",
              "      <td>NaN</td>\n",
              "    </tr>\n",
              "    <tr>\n",
              "      <th>4</th>\n",
              "      <td>Kavanattinkara, 686563 Kumarakom, India – Show...</td>\n",
              "      <td>kumarakom</td>\n",
              "      <td>India</td>\n",
              "      <td>2016-09-01</td>\n",
              "      <td>NaN</td>\n",
              "      <td>Amrutham Houseboat 2 is set in Kumarakom, 5 km...</td>\n",
              "      <td>Bathroom:Toilet paper|Linen|Towels|Towels/Shee...</td>\n",
              "      <td>NaN</td>\n",
              "      <td>NaN</td>\n",
              "      <td>9.632854</td>\n",
              "      <td>NaN</td>\n",
              "      <td>76.423570</td>\n",
              "      <td>http://www.booking.com/hotel/in/amrutham-house...</td>\n",
              "      <td>1744962.0</td>\n",
              "      <td>Amrutham Houseboat 2</td>\n",
              "      <td>215</td>\n",
              "      <td>NaN</td>\n",
              "      <td>2016-09-01 11:52:38 +0000</td>\n",
              "      <td>2.0</td>\n",
              "      <td>Mobile Home</td>\n",
              "      <td>Mandala Beach House &amp; Cottages</td>\n",
              "      <td>NaN</td>\n",
              "      <td>NaN</td>\n",
              "      <td>NaN</td>\n",
              "      <td>http://www.booking.com/</td>\n",
              "      <td>Share</td>\n",
              "      <td>Kerala</td>\n",
              "      <td>0814d9af7ad808863c04db8f30437c57</td>\n",
              "      <td>NaN</td>\n",
              "    </tr>\n",
              "  </tbody>\n",
              "</table>\n",
              "</div>"
            ],
            "text/plain": [
              "                                             address  ... zone\n",
              "0     KHIRSU, 246147 Pauri, India – Great location -  ...  NaN\n",
              "1  Kaathadimattam, Balacola Post, NEAR Siva Tea F...  ...  NaN\n",
              "2      PIPALKOTI, 246472 Pīpalkoti, India – Show map  ...  NaN\n",
              "3  1 KARIYIL HOUSE KUMARAKOM NORTH PO KOTTAYAM, 6...  ...  NaN\n",
              "4  Kavanattinkara, 686563 Kumarakom, India – Show...  ...  NaN\n",
              "\n",
              "[5 rows x 29 columns]"
            ]
          },
          "metadata": {
            "tags": []
          },
          "execution_count": 2
        }
      ]
    },
    {
      "cell_type": "code",
      "metadata": {
        "id": "XzdKcT-oe3SS",
        "colab_type": "code",
        "colab": {
          "base_uri": "https://localhost:8080/",
          "height": 119
        },
        "outputId": "0ccce8f3-2341-413b-ef64-dba72e3e33c1"
      },
      "source": [
        "#Print plot description of the first 5 hotels.\n",
        "metadata['hotel_description'].head()"
      ],
      "execution_count": 4,
      "outputs": [
        {
          "output_type": "execute_result",
          "data": {
            "text/plain": [
              "0    Khirsu By GMVN offers accommodation in Pauri. ...\n",
              "1    Situated in Ooty in the Tamil Nadu Region, 8 k...\n",
              "2    TRH Pipalkoti offers accommodation in Pīpalkot...\n",
              "3    Swasti house boat 2 is located in Kumarakom, 3...\n",
              "4    Amrutham Houseboat 2 is set in Kumarakom, 5 km...\n",
              "Name: hotel_description, dtype: object"
            ]
          },
          "metadata": {
            "tags": []
          },
          "execution_count": 4
        }
      ]
    },
    {
      "cell_type": "code",
      "metadata": {
        "id": "a-cbVXADkoDA",
        "colab_type": "code",
        "colab": {
          "base_uri": "https://localhost:8080/",
          "height": 34
        },
        "outputId": "1833439e-047c-42d4-82e3-12172994fbe1"
      },
      "source": [
        "#Define a TF-IDF Vectorizer Object. Remove all english stop words such as 'the', 'a'\n",
        "from sklearn.feature_extraction.text import TfidfVectorizer\n",
        "\n",
        "tfidf = TfidfVectorizer(stop_words='english')\n",
        "\n",
        "#Replace NaN with an empty string\n",
        "metadata['hotel_description'] = metadata['hotel_description'].fillna('')\n",
        "\n",
        "#Construct the required TF-IDF matrix by fitting and transforming the data\n",
        "tfidf_matrix = tfidf.fit_transform(metadata['hotel_description'])\n",
        "\n",
        "#Output the shape of tfidf_matrix\n",
        "tfidf_matrix.shape"
      ],
      "execution_count": 5,
      "outputs": [
        {
          "output_type": "execute_result",
          "data": {
            "text/plain": [
              "(6000, 5249)"
            ]
          },
          "metadata": {
            "tags": []
          },
          "execution_count": 5
        }
      ]
    },
    {
      "cell_type": "code",
      "metadata": {
        "id": "XeiQRBKAk1s6",
        "colab_type": "code",
        "colab": {}
      },
      "source": [
        "from sklearn.metrics.pairwise import cosine_similarity\n",
        "\n",
        "cosine_sim = cosine_similarity(tfidf_matrix, tfidf_matrix)"
      ],
      "execution_count": 6,
      "outputs": []
    },
    {
      "cell_type": "code",
      "metadata": {
        "id": "bKO3iFf5llxE",
        "colab_type": "code",
        "colab": {
          "base_uri": "https://localhost:8080/",
          "height": 34
        },
        "outputId": "f898178e-29e8-4ead-de4f-befcf8383ef5"
      },
      "source": [
        "cosine_sim.shape"
      ],
      "execution_count": 7,
      "outputs": [
        {
          "output_type": "execute_result",
          "data": {
            "text/plain": [
              "(6000, 6000)"
            ]
          },
          "metadata": {
            "tags": []
          },
          "execution_count": 7
        }
      ]
    },
    {
      "cell_type": "code",
      "metadata": {
        "id": "Rs4hkz-0tIKH",
        "colab_type": "code",
        "colab": {}
      },
      "source": [
        "indices = pd.Series(metadata.index, index=metadata['property_name']).drop_duplicates()"
      ],
      "execution_count": 8,
      "outputs": []
    },
    {
      "cell_type": "code",
      "metadata": {
        "id": "GcL2_CoDf7_a",
        "colab_type": "code",
        "colab": {
          "base_uri": "https://localhost:8080/",
          "height": 221
        },
        "outputId": "97210c56-d429-4aab-8a8c-228bcbddaaf4"
      },
      "source": [
        "indices[:10]"
      ],
      "execution_count": 9,
      "outputs": [
        {
          "output_type": "execute_result",
          "data": {
            "text/plain": [
              "property_name\n",
              "Khirsu By GMVN          0\n",
              "Global Village Ooty     1\n",
              "TRH Pipalkoti           2\n",
              "Swasti house boat 2     3\n",
              "Amrutham Houseboat 2    4\n",
              "The Hill Side           5\n",
              "Hotel Mountain Face     6\n",
              "Rahi Motel Haridwar     7\n",
              "Swasti house boat 4     8\n",
              "NaN                     9\n",
              "dtype: int64"
            ]
          },
          "metadata": {
            "tags": []
          },
          "execution_count": 9
        }
      ]
    },
    {
      "cell_type": "code",
      "metadata": {
        "id": "PlOU0M_Kf9y4",
        "colab_type": "code",
        "colab": {}
      },
      "source": [
        "def get_recommendations(title, cosine_sim=cosine_sim):\n",
        "    # Get the index of the movie that matches the title\n",
        "    idx = indices[title]\n",
        "\n",
        "    # Get the pairwsie similarity scores of all movies with that movie\n",
        "    sim_scores = list(enumerate(cosine_sim[idx]))\n",
        "\n",
        "    # Sort the movies based on the similarity scores\n",
        "    sim_scores = sorted(sim_scores, key=lambda x: x[1], reverse=True)\n",
        "\n",
        "    # Get the scores of the 10 most similar movies\n",
        "    sim_scores = sim_scores[1:11]\n",
        "\n",
        "    # Get the movie indices\n",
        "    movie_indices = [i[0] for i in sim_scores]\n",
        "\n",
        "    # Return the top 10 most similar movies\n",
        "    return metadata['property_name'].iloc[movie_indices]"
      ],
      "execution_count": 10,
      "outputs": []
    },
    {
      "cell_type": "code",
      "metadata": {
        "id": "3N90zeO-gH6s",
        "colab_type": "code",
        "colab": {
          "base_uri": "https://localhost:8080/",
          "height": 204
        },
        "outputId": "ebf2c427-9e00-4d8b-b91d-baa442c60f70"
      },
      "source": [
        "get_recommendations('Khirsu By GMVN')"
      ],
      "execution_count": 11,
      "outputs": [
        {
          "output_type": "execute_result",
          "data": {
            "text/plain": [
              "4585                   Hotel Grand Plaza\n",
              "13                           Grand Hotel\n",
              "3047                   Hotel N.M.R.Plaza\n",
              "3051                   Hotel N.M.R.Plaza\n",
              "51                 Hotel Royal Residency\n",
              "175                Hotel Royal Residency\n",
              "199                         Ekant Resort\n",
              "4112    Vista Rooms near Railway Station\n",
              "4337    Vista Rooms near Railway Station\n",
              "276                    Home In The Hills\n",
              "Name: property_name, dtype: object"
            ]
          },
          "metadata": {
            "tags": []
          },
          "execution_count": 11
        }
      ]
    },
    {
      "cell_type": "code",
      "metadata": {
        "id": "y4hpWqPIgOTG",
        "colab_type": "code",
        "colab": {}
      },
      "source": [
        ""
      ],
      "execution_count": null,
      "outputs": []
    }
  ]
}